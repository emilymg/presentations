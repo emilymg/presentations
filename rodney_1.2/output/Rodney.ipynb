{
  "cells": [
    {
      "cell_type": "raw",
      "metadata": {},
      "source": [
        "---\n",
        "title: \"What Is Underdevelopment?\"\n",
        "author: \"\"\n",
        "format: pptx\n",
        "editor: source\n",
        "---"
      ],
      "id": "5e1c5f17"
    },
    {
      "cell_type": "markdown",
      "metadata": {},
      "source": [
        "```{css,echo=FALSE}\n",
        "h1, h4 {\n",
        "  text-align: center;\n",
        "}\n",
        "```\n",
        "\n",
        "\n",
        "## What is underdevelopment?\n",
        "\n",
        "-   Underdevelopment is not the absence of development, but a way of comparing *levels* of development. Differences in development are tied to:\\\n",
        "\n",
        "    - uneven human social development\n",
        "    - economic advancement of some human groups by furthering production & increasing wealth\n",
        "\n",
        "\n",
        "\n",
        "## Underdevelopment is always a comparison\n",
        "\n",
        "-   Adam Smith, Wealth of Nations (1776) - division of labor, productivity, free markets  \n",
        "\n",
        "-   Africa, Asia, and Latin America can be said to be underdeveloped in *comparison* to Europe and North America. We can analyze underdevelopment by:  \n",
        "\n",
        "    -   Comparing economic conditions in a single country or region over different time periods  \n",
        "\n",
        "    -   Comparing two countries with one another in the same time period  \n",
        "\n",
        "\n",
        "\n",
        "## Exploitation\n",
        "<h4>Underdevelopment can't exist without it </h4>\n",
        "\n",
        "> All of the countries named as \"underdeveloped\" in the world are exploited by others; and the underdevelopment with which the world is now preoccupied is a product of capitalist, imperialist, and colonialist exploitation.\\  \n",
        "\n",
        "\\  \n",
        "African and Asian societies that were developing independently were taken over by capitalist powers. Exploitation increased and export of surplus ensued; as a result the people are denied the benefit of their natural resources and labor. This is an *integral* mechanism of contemporary underdevelopment.  \n",
        "\n",
        "\n",
        "\n",
        "## \"developing\" vs. \"underdeveloped\"  \n",
        "\n",
        "-   Typically done to avoid interpretation as underdeveloped morally, physically, mentally, or any other connotation\n",
        "\n",
        ">Actually, if “underdevelopment” were related to anything other than comparing economies, then the most underdeveloped country in the world would be the United States, which practices external oppression on a massive scale, while internally there is a blend of exploitation, brutality, and psychiatric disorder.\\  \n"
      ],
      "id": "b8e0097f"
    }
  ],
  "metadata": {
    "kernelspec": {
      "display_name": "Python 3",
      "language": "python",
      "name": "python3"
    }
  },
  "nbformat": 4,
  "nbformat_minor": 5
}